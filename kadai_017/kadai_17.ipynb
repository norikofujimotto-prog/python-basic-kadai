{
  "nbformat": 4,
  "nbformat_minor": 0,
  "metadata": {
    "colab": {
      "provenance": []
    },
    "kernelspec": {
      "name": "python3",
      "display_name": "Python 3"
    },
    "language_info": {
      "name": "python"
    }
  },
  "cells": [
    {
      "cell_type": "code",
      "execution_count": 1,
      "metadata": {
        "colab": {
          "base_uri": "https://localhost:8080/"
        },
        "id": "ut0QgxsThSb_",
        "outputId": "4e84b2df-69ab-4a60-801e-e6a09c4c9d5b"
      },
      "outputs": [
        {
          "output_type": "stream",
          "name": "stdout",
          "text": [
            "山田は大人です。\n",
            "佐藤は大人ではありません。\n",
            "田中は大人です。\n",
            "鈴木は大人ではありません。\n"
          ]
        }
      ],
      "source": [
        "class Human:\n",
        "    def __init__(self, name, age):\n",
        "        self.name = name\n",
        "        self.age = age\n",
        "\n",
        "    def check_adult(self):\n",
        "        if self.age >= 20:\n",
        "            print(f\"{self.name}は大人です。\")\n",
        "        else:\n",
        "            print(f\"{self.name}は大人ではありません。\")\n",
        "\n",
        "# Humanクラスのインスタンスを複数作成し、リストに追加\n",
        "humans = [\n",
        "    Human(\"山田\", 25),\n",
        "    Human(\"佐藤\", 18),\n",
        "    Human(\"田中\", 35),\n",
        "    Human(\"鈴木\", 15)\n",
        "]\n",
        "\n",
        "# リストの要素数分だけcheck_adultメソッドを呼び出す\n",
        "for human in humans:\n",
        "    human.check_adult()"
      ]
    }
  ]
}