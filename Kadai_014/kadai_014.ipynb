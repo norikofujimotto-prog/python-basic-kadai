{
  "nbformat": 4,
  "nbformat_minor": 0,
  "metadata": {
    "colab": {
      "provenance": []
    },
    "kernelspec": {
      "name": "python3",
      "display_name": "Python 3"
    },
    "language_info": {
      "name": "python"
    }
  },
  "cells": [
    {
      "cell_type": "code",
      "execution_count": 1,
      "metadata": {
        "colab": {
          "base_uri": "https://localhost:8080/"
        },
        "id": "DHHCJmwYqvxI",
        "outputId": "fe8d9cbc-b7c2-42fe-de78-e4c6099e3acc"
      },
      "outputs": [
        {
          "output_type": "stream",
          "name": "stdout",
          "text": [
            "330.0\n"
          ]
        }
      ],
      "source": [
        "# グローバルスコープ\n",
        "price1 = 100\n",
        "price2 = 200\n",
        "tax = 1.1 # taxをグローバル変数として定義\n",
        "\n",
        "def total():\n",
        "    # ローカルスコープ\n",
        "    # グローバル変数のprice1とprice2を参照\n",
        "    return price1 + price2\n",
        "\n",
        "print(total() * tax)"
      ]
    }
  ]
}