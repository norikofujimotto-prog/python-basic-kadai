{
  "nbformat": 4,
  "nbformat_minor": 0,
  "metadata": {
    "colab": {
      "provenance": []
    },
    "kernelspec": {
      "name": "python3",
      "display_name": "Python 3"
    },
    "language_info": {
      "name": "python"
    }
  },
  "cells": [
    {
      "cell_type": "code",
      "source": [
        "#台形の面積\n",
        "number1 = 20\n",
        "number2 = 10\n",
        "number3 = 5\n",
        "\n",
        "#計算結果をareaに代入\n",
        "area = (number1 + number2) * number3 / 2\n",
        "\n",
        "#変数の中身を出力し、単位「cm²」を付加\n",
        "print(f\"{area}cm²\")\n"
      ],
      "metadata": {
        "colab": {
          "base_uri": "https://localhost:8080/"
        },
        "id": "0zTB_FMyeGYC",
        "outputId": "d2a6e8a4-691d-4235-83b0-2d330d4e7eba"
      },
      "execution_count": 1,
      "outputs": [
        {
          "output_type": "stream",
          "name": "stdout",
          "text": [
            "75.0cm²\n"
          ]
        }
      ]
    }
  ]
}