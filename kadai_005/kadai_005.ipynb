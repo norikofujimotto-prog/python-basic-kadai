{
  "nbformat": 4,
  "nbformat_minor": 0,
  "metadata": {
    "colab": {
      "provenance": []
    },
    "kernelspec": {
      "name": "python3",
      "display_name": "Python 3"
    },
    "language_info": {
      "name": "python"
    }
  },
  "cells": [
    {
      "cell_type": "code",
      "source": [
        "#台形の面積\n",
        "number1 = 20\n",
        "number2 = 10\n",
        "number3 = 5\n",
        "print((number1 + number2) * number3 / 2)"
      ],
      "metadata": {
        "colab": {
          "base_uri": "https://localhost:8080/"
        },
        "id": "0zTB_FMyeGYC",
        "outputId": "4f543d2e-2a00-4d88-fe78-2d97def32694"
      },
      "execution_count": 13,
      "outputs": [
        {
          "output_type": "stream",
          "name": "stdout",
          "text": [
            "75.0\n"
          ]
        }
      ]
    }
  ]
}