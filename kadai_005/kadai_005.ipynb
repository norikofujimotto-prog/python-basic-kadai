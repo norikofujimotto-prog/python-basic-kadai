{
  "nbformat": 4,
  "nbformat_minor": 0,
  "metadata": {
    "colab": {
      "provenance": []
    },
    "kernelspec": {
      "name": "python3",
      "display_name": "Python 3"
    },
    "language_info": {
      "name": "python"
    }
  },
  "cells": [
    {
      "cell_type": "code",
      "source": [
        "#台形の面積\n",
        "number1 = 20\n",
        "number2 = 10\n",
        "number3 = 5\n",
        "\n",
        "#計算結果をareaに代入\n",
        "area = (number1 + number2) * number3 / 2\n",
        "\n",
        "#変数の中身を出力し、単位「㎠」を付加\n",
        "print(f\"{area}㎠\")\n"
      ],
      "metadata": {
        "colab": {
          "base_uri": "https://localhost:8080/"
        },
        "id": "0zTB_FMyeGYC",
        "outputId": "5a7f3ba6-f56f-4abb-8001-8024f91a4522"
      },
      "execution_count": 14,
      "outputs": [
        {
          "output_type": "stream",
          "name": "stdout",
          "text": [
            "75.0㎠\n"
          ]
        }
      ]
    }
  ]
}