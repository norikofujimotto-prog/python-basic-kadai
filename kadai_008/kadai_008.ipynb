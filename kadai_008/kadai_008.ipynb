{
  "nbformat": 4,
  "nbformat_minor": 0,
  "metadata": {
    "colab": {
      "provenance": []
    },
    "kernelspec": {
      "name": "python3",
      "display_name": "Python 3"
    },
    "language_info": {
      "name": "python"
    }
  },
  "cells": [
    {
      "cell_type": "code",
      "source": [
        "var = 15\n",
        "\n",
        "if var % 3 == 0:\n",
        "  print(\"Fizz\")\n",
        "\n",
        "if var % 5 == 0:\n",
        "  print(\"Buzz\")\n",
        "\n",
        "if var % 15 == 0:\n",
        "  print(\"FizzBuzz\")"
      ],
      "metadata": {
        "colab": {
          "base_uri": "https://localhost:8080/"
        },
        "id": "vS3EGtPQFLZd",
        "outputId": "57532455-2546-443c-970d-4d60c22848c5"
      },
      "execution_count": 41,
      "outputs": [
        {
          "output_type": "stream",
          "name": "stdout",
          "text": [
            "Fizz\n",
            "Buzz\n",
            "FizzBuzz\n"
          ]
        }
      ]
    },
    {
      "cell_type": "code",
      "source": [
        "  var = random.randint(1, 100)\n",
        "  print(var)\n"
      ],
      "metadata": {
        "colab": {
          "base_uri": "https://localhost:8080/"
        },
        "id": "Z6mz44z-3RI8",
        "outputId": "9a6986ee-1d71-4cc4-e812-9e4bc478badc"
      },
      "execution_count": 28,
      "outputs": [
        {
          "output_type": "stream",
          "name": "stdout",
          "text": [
            "38\n"
          ]
        }
      ]
    },
    {
      "cell_type": "code",
      "source": [
        "var = 38\n",
        "\n",
        "if var % 3 == 0:\n",
        "  print(\"Fizz\")\n",
        "\n",
        "if var % 5 == 0:\n",
        "  print(\"Buzz\")\n",
        "\n",
        "if var % 15 == 0:\n",
        "  print(\"FizzBuzz\")"
      ],
      "metadata": {
        "id": "FHRzkbw1FrEP"
      },
      "execution_count": 43,
      "outputs": []
    },
    {
      "cell_type": "code",
      "source": [
        "var = random.randint(1, 100)\n",
        "print(var)\n",
        "\n",
        "if var % 3 == 0:\n",
        "  print(\"Fizz\")\n",
        "\n",
        "if var % 5 == 0:\n",
        "  print(\"Buzz\")\n",
        "\n",
        "if var % 15 == 0:\n",
        "  print(\"FizzBuzz\")\n"
      ],
      "metadata": {
        "colab": {
          "base_uri": "https://localhost:8080/"
        },
        "id": "QQ-xS_1VGKwS",
        "outputId": "5477a51f-f200-4907-9e1e-52081e5d8791"
      },
      "execution_count": 48,
      "outputs": [
        {
          "output_type": "stream",
          "name": "stdout",
          "text": [
            "9\n",
            "Fizz\n"
          ]
        }
      ]
    }
  ]
}