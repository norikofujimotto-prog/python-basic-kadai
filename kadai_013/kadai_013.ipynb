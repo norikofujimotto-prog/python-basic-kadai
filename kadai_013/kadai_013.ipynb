{
  "nbformat": 4,
  "nbformat_minor": 0,
  "metadata": {
    "colab": {
      "provenance": []
    },
    "kernelspec": {
      "name": "python3",
      "display_name": "Python 3"
    },
    "language_info": {
      "name": "python"
    }
  },
  "cells": [
    {
      "cell_type": "markdown",
      "source": [
        "商品価格に消費税を加えた計算結果を返す関数"
      ],
      "metadata": {
        "id": "s0NIfD8Lv2vS"
      }
    },
    {
      "cell_type": "code",
      "source": [
        "# 与えられた引数$priceに消費税を加算し、その値を出力する関数を定義する\n",
        "def calculate_total(price):\n",
        "    # 与えられた引数priceに送料を加算し、変数totalに代入する\n",
        "    total = price + price*10/100\n",
        "\n",
        "    # 変数totalの値を出力する\n",
        "    print(f\"{total}円\")\n",
        "\n",
        "# 関数を呼び出し、引数として購入金額を渡す\n",
        "calculate_total(110)\n"
      ],
      "metadata": {
        "colab": {
          "base_uri": "https://localhost:8080/"
        },
        "id": "h4LM7DyPv1oG",
        "outputId": "fad33977-b5d0-45b1-fb22-cd33945a1e42"
      },
      "execution_count": 8,
      "outputs": [
        {
          "output_type": "stream",
          "name": "stdout",
          "text": [
            "121.0円\n"
          ]
        }
      ]
    }
  ]
}