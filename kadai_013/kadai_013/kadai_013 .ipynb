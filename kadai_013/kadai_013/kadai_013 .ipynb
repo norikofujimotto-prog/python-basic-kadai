{
  "nbformat": 4,
  "nbformat_minor": 0,
  "metadata": {
    "colab": {
      "provenance": []
    },
    "kernelspec": {
      "name": "python3",
      "display_name": "Python 3"
    },
    "language_info": {
      "name": "python"
    }
  },
  "cells": [
    {
      "cell_type": "markdown",
      "source": [
        "商品価格に消費税を加えた計算結果を返す関数"
      ],
      "metadata": {
        "id": "s0NIfD8Lv2vS"
      }
    },
    {
      "cell_type": "code",
      "source": [
        "#商品価格に消費税を加え税込価格を表示する関数\n",
        "calculate_price_with_tax(price, tax_rate)\n",
        "\n",
        "#戻り値を返す関数\n",
        "def calculate_price_with_tax(price, tax_rate):\n",
        "  tax_amount = price * (tax_rate / 100)\n",
        "  total_price = price + tax_amount\n",
        "  return total_price\n",
        "\n",
        "final_price = calculate_price_with_tax(price, tax_rate)\n",
        "\n",
        "#引数:\n",
        "price = 110\n",
        "tax_rate = 10\n",
        "\n",
        "final_price = calculate_price_with_tax(110, 10)\n",
        "print(f\"税込み価格: {final_price}円\")"
      ],
      "metadata": {
        "colab": {
          "base_uri": "https://localhost:8080/"
        },
        "id": "agO2nc5ZMm_1",
        "outputId": "f4ecd1f1-5086-4f61-a819-0be7e5d174d3"
      },
      "execution_count": 31,
      "outputs": [
        {
          "output_type": "stream",
          "name": "stdout",
          "text": [
            "税込み価格: 121.0円\n"
          ]
        }
      ]
    },
    {
      "cell_type": "code",
      "source": [
        "="
      ],
      "metadata": {
        "id": "DsfJ9-JMO8_W"
      },
      "execution_count": null,
      "outputs": []
    }
  ]
}