{
  "nbformat": 4,
  "nbformat_minor": 0,
  "metadata": {
    "colab": {
      "provenance": []
    },
    "kernelspec": {
      "name": "python3",
      "display_name": "Python 3"
    },
    "language_info": {
      "name": "python"
    }
  },
  "cells": [
    {
      "cell_type": "markdown",
      "source": [
        "商品価格に消費税を加えた計算結果を返す関数"
      ],
      "metadata": {
        "id": "s0NIfD8Lv2vS"
      }
    },
    {
      "cell_type": "code",
      "source": [
        "def calculate_price_with_tax(price, tax_rate):\n",
        "    \"\"\"\n",
        "    商品の価格と消費税率を受け取り、税込み価格を計算して返す。\n",
        "\n",
        "    引数:\n",
        "        price (int):\n",
        "        tax_rate (int or float):\n",
        "\n",
        "    Returns:\n",
        "        float: 税込金額\n",
        "    \"\"\"\n",
        "    tax_amount = price * (tax_rate / 100)\n",
        "    total_price = price + tax_amount\n",
        "    return total_price\n",
        "\n",
        "# 関数の呼び出し例\n",
        "final_price = calculate_price_with_tax(110, 10)\n",
        "\n",
        "print(f\"税込み価格: {final_price}円\")"
      ],
      "metadata": {
        "colab": {
          "base_uri": "https://localhost:8080/"
        },
        "id": "DsfJ9-JMO8_W",
        "outputId": "52777a5f-52a2-490d-bb0d-8204370c1988"
      },
      "execution_count": 32,
      "outputs": [
        {
          "output_type": "stream",
          "name": "stdout",
          "text": [
            "税込み価格: 121.0円\n"
          ]
        }
      ]
    }
  ]
}